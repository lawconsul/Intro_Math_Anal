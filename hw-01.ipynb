{
 "cells": [
  {
   "cell_type": "markdown",
   "metadata": {},
   "source": [
    "Предмет: МатАнализ\n",
    "\n",
    "Группа: AI-185\n",
    "\n",
    "Студент: Загидуллин Радик\n",
    "    "
   ]
  },
  {
   "cell_type": "markdown",
   "metadata": {},
   "source": [
    "Тема 2: Множества"
   ]
  },
  {
   "cell_type": "code",
   "execution_count": 2,
   "metadata": {},
   "outputs": [],
   "source": [
    "a = set({1,2,3})\n",
    "b = set({2,3,4})\n",
    "c = set({3,4,5})"
   ]
  },
  {
   "cell_type": "code",
   "execution_count": 42,
   "metadata": {},
   "outputs": [
    {
     "name": "stdout",
     "output_type": "stream",
     "text": [
      "Пересечение множеств a и b: {2, 3}\n",
      "Объединение множеств a и b: {1, 2, 3, 4}\n",
      "Разность множеств a и b: {1}\n",
      "Симметричное отличие множеств a и b: {1, 4}\n"
     ]
    }
   ],
   "source": [
    "s1 = a&b\n",
    "s1 = set.intersection(a,b)\n",
    "print(f\"Пересечение множеств a и b: {s1}\")\n",
    "\n",
    "s2 = a|b\n",
    "print(f\"Объединение множеств a и b: {s2}\")\n",
    "\n",
    "s3 = a-b\n",
    "s3 = set.difference(a,b)\n",
    "print(f\"Разность множеств a и b: {s3}\")\n",
    "\n",
    "s4 = set.symmetric_difference(a,b)\n",
    "print(f\"Симметричное отличие множеств a и b: {s4}\")"
   ]
  },
  {
   "cell_type": "code",
   "execution_count": 43,
   "metadata": {},
   "outputs": [
    {
     "name": "stdout",
     "output_type": "stream",
     "text": [
      "Пересечение множеств a и c: {3}\n",
      "Объединение множеств a и c: {1, 2, 3, 4, 5}\n",
      "Разность множеств a и c: {1, 2}\n",
      "Симметричное отличие множеств a и c: {1, 2, 4, 5}\n"
     ]
    }
   ],
   "source": [
    "s1 = a&c\n",
    "s1 = set.intersection(a,c)\n",
    "print(f\"Пересечение множеств a и c: {s1}\")\n",
    "\n",
    "s2 = a|c\n",
    "print(f\"Объединение множеств a и c: {s2}\")\n",
    "\n",
    "s3 = a-c\n",
    "s3 = set.difference(a,c)\n",
    "print(f\"Разность множеств a и c: {s3}\")\n",
    "\n",
    "s4 = set.symmetric_difference(a,c)\n",
    "print(f\"Симметричное отличие множеств a и c: {s4}\")"
   ]
  },
  {
   "cell_type": "code",
   "execution_count": 44,
   "metadata": {},
   "outputs": [
    {
     "name": "stdout",
     "output_type": "stream",
     "text": [
      "Пересечение множеств b и c: {3, 4}\n",
      "Объединение множеств b и c: {2, 3, 4, 5}\n",
      "Разность множеств b и c: {2}\n",
      "Симметричное отличие множеств b и c: {2, 5}\n"
     ]
    }
   ],
   "source": [
    "s1 = b&c\n",
    "s1 = set.intersection(b,c)\n",
    "print(f\"Пересечение множеств b и c: {s1}\")\n",
    "\n",
    "s2 = b|c\n",
    "print(f\"Объединение множеств b и c: {s2}\")\n",
    "\n",
    "s3 = b-c\n",
    "s3 = set.difference(b,c)\n",
    "print(f\"Разность множеств b и c: {s3}\")\n",
    "\n",
    "s4 = set.symmetric_difference(b,c)\n",
    "print(f\"Симметричное отличие множеств b и c: {s4}\")"
   ]
  },
  {
   "cell_type": "code",
   "execution_count": null,
   "metadata": {},
   "outputs": [],
   "source": []
  },
  {
   "cell_type": "markdown",
   "metadata": {},
   "source": [
    "Тема 3: Последовательность"
   ]
  },
  {
   "attachments": {},
   "cell_type": "markdown",
   "metadata": {},
   "source": [
    "5)  *На языке Python предложить алгоритм вычисляющий численно предел\n",
    "с точностью 10^(-7)\n",
    "\n",
    "6) *Предложить оптимизацию алгоритма, полученного в задании 5, ускоряющую его сходимость."
   ]
  },
  {
   "cell_type": "code",
   "execution_count": 75,
   "metadata": {},
   "outputs": [
    {
     "name": "stdout",
     "output_type": "stream",
     "text": [
      "1.2056327160493826e-05\n"
     ]
    }
   ],
   "source": [
    "from  math import factorial\n",
    "from  math import pow\n",
    "def func(n):\n",
    "    if n < 5:\n",
    "        f = n/math.pow(math.factorial(n),n)\n",
    "    else:\n",
    "        f = 1e-7\n",
    "    return f\n",
    "\n",
    "print(func(4))"
   ]
  },
  {
   "cell_type": "code",
   "execution_count": null,
   "metadata": {},
   "outputs": [],
   "source": []
  },
  {
   "cell_type": "code",
   "execution_count": null,
   "metadata": {},
   "outputs": [],
   "source": []
  }
 ],
 "metadata": {
  "kernelspec": {
   "display_name": "Python 3",
   "language": "python",
   "name": "python3"
  },
  "language_info": {
   "codemirror_mode": {
    "name": "ipython",
    "version": 3
   },
   "file_extension": ".py",
   "mimetype": "text/x-python",
   "name": "python",
   "nbconvert_exporter": "python",
   "pygments_lexer": "ipython3",
   "version": "3.6.5"
  }
 },
 "nbformat": 4,
 "nbformat_minor": 2
}
